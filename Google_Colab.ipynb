{
  "nbformat": 4,
  "nbformat_minor": 0,
  "metadata": {
    "colab": {
      "name": "DMAS.ipynb",
      "provenance": [],
      "collapsed_sections": []
    },
    "kernelspec": {
      "name": "python3",
      "display_name": "Python 3"
    },
    "accelerator": "GPU"
  },
  "cells": [
    {
      "cell_type": "markdown",
      "metadata": {
        "id": "5WYjKTnIHg7M",
        "colab_type": "text"
      },
      "source": [
        "Mount your google drive to store checkpoints, follow the instructions it gives."
      ]
    },
    {
      "cell_type": "code",
      "metadata": {
        "id": "KUAztvgV-k2y",
        "colab_type": "code",
        "colab": {}
      },
      "source": [
        "from google.colab import drive\n",
        "drive.mount('/content/gdrive')"
      ],
      "execution_count": 0,
      "outputs": []
    },
    {
      "cell_type": "markdown",
      "metadata": {
        "id": "7rsu8i73HsaL",
        "colab_type": "text"
      },
      "source": [
        "Clone the git repo and install all that we need, this may take some time. The console output returns a few warnings, those can be ignored.\n",
        "\n"
      ]
    },
    {
      "cell_type": "code",
      "metadata": {
        "id": "ZUf3Whmy-mW4",
        "colab_type": "code",
        "colab": {}
      },
      "source": [
        "!rm -r sample_data/\n",
        "!git clone https://github.com/gitaar9/flow-DMAS.git\n",
        "!pip install gym==0.14.0\n",
        "!pip install pyprind==2.11.2\n",
        "!pip install nose2==0.8.0\n",
        "!pip install cached_property\n",
        "!pip install joblib==0.10.3\n",
        "!pip install matplotlib==3.0.0\n",
        "!pip install dill\n",
        "!pip install lz4\n",
        "!pip install ray==0.6.1\n",
        "!pip install setproctitle\n",
        "!pip install psutil\n",
        "!pip install opencv-python\n",
        "!pip install boto3==1.4.8\n",
        "!pip install redis~=2.10.6\n",
        "!pip install git+https://github.com/Theano/Theano.git@adfe319ce6b781083d8dc3200fb4481b00853791#egg=Theano\n",
        "!pip install git+https://github.com/neocxi/Lasagne.git@484866cf8b38d878e92d521be445968531646bb8#egg=Lasagne\n",
        "!pip install git+https://github.com/plotly/plotly.py.git@2594076e29584ede2d09f2aa40a8a195b3f3fc66#egg=plotly\n",
        "!pip install -e flow-DMAS/.\n",
        "!flow-DMAS/scripts/setup_sumo_ubuntu1804.sh\n",
        "%env PATH=/root/sumo_binaries/bin:/usr/local/nvidia/bin:/usr/local/cuda/bin:/usr/local/sbin:/usr/local/bin:/usr/sbin:/usr/bin:/sbin:/bin:/tools/node/bin:/tools/google-cloud-sdk/bin:/opt/bin\n",
        "%env SUMO_HOME=/root/sumo_binaries/bin\n",
        "\n",
        "%cd /content/\n",
        "!wget https://bin.equinox.io/c/4VmDzA7iaHb/ngrok-stable-linux-amd64.zip\n",
        "!unzip ngrok-stable-linux-amd64.zip"
      ],
      "execution_count": 0,
      "outputs": []
    },
    {
      "cell_type": "markdown",
      "metadata": {
        "id": "DHKR1z6fH1GP",
        "colab_type": "text"
      },
      "source": [
        "This will start tensorboard. It spits out a link, click that.\n",
        "In the link disable auto update (under settings right-top), it will complain if you make too many GET requests. Additionally, sometimes this section returns an error, simply rerun this section until it returns a link. \n",
        "\n",
        "If the Google drive that is mounted in the first section is also mounted locally, one could also run tensorboard locally from there. Negating the use of this section."
      ]
    },
    {
      "cell_type": "code",
      "metadata": {
        "id": "-2FYjBK3Yaxr",
        "colab_type": "code",
        "colab": {}
      },
      "source": [
        "get_ipython().system_raw(\n",
        "    'tensorboard --logdir . --host 0.0.0.0 --port 6006 &'\n",
        ")\n",
        "\n",
        "get_ipython().system_raw('./ngrok http 6006 &')\n",
        "\n",
        "!curl -s http://localhost:4040/api/tunnels | python3 -c \\\n",
        "    \"import sys, json; print(json.load(sys.stdin)['tunnels'][0]['public_url'])\""
      ],
      "execution_count": 0,
      "outputs": []
    },
    {
      "cell_type": "markdown",
      "metadata": {
        "id": "wzzM85X6H_uV",
        "colab_type": "text"
      },
      "source": [
        "This will start the actual learning. Giving the python script a directory of a checkpoint will make it continue from that checkpoint. Of course, this requires a checkpoint to be present, for example:\n",
        "\n",
        "> !python3  /content/flow-DMAS/examples/rllib/multiagent_exps/multiagent_bottleneck.py /content/gdrive/My\\ Drive/MultiAgentDesiredVelocity/PPO_BottleneckThijsMultiAgentEnv-v0_0_2019-11-03_10-40-22cpx4jcfr/checkpoint_130/checkpoint-130\n"
      ]
    },
    {
      "cell_type": "code",
      "metadata": {
        "id": "Ol-eFzmW-oF9",
        "colab_type": "code",
        "colab": {}
      },
      "source": [
        "!python3 /content/flow-DMAS/examples/rllib/multiagent_exps/multiagent_bottleneck.py "
      ],
      "execution_count": 0,
      "outputs": []
    }
  ]
}